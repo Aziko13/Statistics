{
 "cells": [
  {
   "cell_type": "code",
   "execution_count": 178,
   "metadata": {},
   "outputs": [],
   "source": [
    "%reset -f"
   ]
  },
  {
   "cell_type": "code",
   "execution_count": 219,
   "metadata": {},
   "outputs": [],
   "source": [
    "import numpy as np\n",
    "import matplotlib.pyplot as plt\n",
    "import seaborn as sns\n",
    "import pylab\n",
    "import pandas as pd\n",
    "import random\n",
    "from scipy import stats\n",
    "from statsmodels.stats.weightstats import ztest"
   ]
  },
  {
   "cell_type": "code",
   "execution_count": 199,
   "metadata": {},
   "outputs": [],
   "source": [
    "# Function to plot tg and cg\n",
    "def print_tg_cg(tg, cg):\n",
    "    # Calculating mean values for Target and Control Groups\n",
    "    tg_mean = np.mean(tg)\n",
    "    cg_mean = np.mean(cg)\n",
    "\n",
    "    df_tg = pd.DataFrame({'Flag':tg, 'Group':'TG'})\n",
    "    df_cg = pd.DataFrame({'Flag':cg, 'Group':'CG'})\n",
    "    df = pd.concat([df_tg, df_cg], axis=0)\n",
    "    # Creating Distributions plot for our arrays\n",
    "    fig, ax = plt.subplots(figsize=(10,6))\n",
    "    \n",
    "    sns.countplot(df['Flag'], hue=df['Group'])\n",
    "\n",
    "    plt.title('#Of color changes')\n",
    "    plt.legend()\n",
    "    plt.xlabel(' ')\n",
    "    plt.ylabel(' ')\n",
    "    # Adding annotations\n",
    "    # ax.annotate(str(round(tg_mean,0)), xy=(tg_mean, 0), xytext=(tg_mean, 0), arrowprops=dict(facecolor='b', shrink=0.05),)\n",
    "    # ax.annotate(str(round(cg_mean,0)), xy=(cg_mean, 0), xytext=(cg_mean, 0), arrowprops=dict(facecolor='g', shrink=0.05),)\n",
    "\n",
    "    # # Saving plot\n",
    "    fig.savefig('distplot_binomial.png')\n",
    "\n",
    "    plt.show()"
   ]
  },
  {
   "cell_type": "markdown",
   "metadata": {},
   "source": [
    "#### Pre-campaigns arrangements "
   ]
  },
  {
   "cell_type": "code",
   "execution_count": 208,
   "metadata": {},
   "outputs": [],
   "source": [
    "mu_0 = 0.3\n",
    "sigma = mu_0*(1-mu_0)"
   ]
  },
  {
   "cell_type": "markdown",
   "metadata": {},
   "source": [
    "\\begin{equation*}\n",
    "d = \\frac{|{\\mu_{0}-\\mu}|}{\\sigma}\n",
    "\\end{equation*}"
   ]
  },
  {
   "cell_type": "code",
   "execution_count": 209,
   "metadata": {},
   "outputs": [],
   "source": [
    "d = 0.1/sigma"
   ]
  },
  {
   "cell_type": "code",
   "execution_count": 210,
   "metadata": {},
   "outputs": [],
   "source": [
    "# Creating two normally distributed arrays for Target and Control Groups\n",
    "tg_size = 50\n",
    "cg_size = 50\n",
    "\n",
    "\n",
    "np.random.seed(13)\n",
    "tg = np.random.binomial(n=1, p=0.31, size=tg_size)\n",
    "np.random.seed(15)\n",
    "cg = np.random.binomial(n=1, p=0.36, size=cg_size)"
   ]
  },
  {
   "cell_type": "code",
   "execution_count": 211,
   "metadata": {},
   "outputs": [
    {
     "data": {
      "image/png": "[encoded data removed]",
      "text/plain": [
       "<Figure size 720x432 with 1 Axes>"
      ]
     },
     "metadata": {},
     "output_type": "display_data"
    }
   ],
   "source": [
    "print_tg_cg(tg, cg)"
   ]
  },
  {
   "cell_type": "code",
   "execution_count": null,
   "metadata": {},
   "outputs": [],
   "source": []
  },
  {
   "cell_type": "markdown",
   "metadata": {},
   "source": [
    "#### Z-test"
   ]
  },
  {
   "cell_type": "markdown",
   "metadata": {},
   "source": [
    "\\begin{equation*}\n",
    "Z = \\frac{\\hat{p}_{tg} - \\hat{p}_{cg}}{\\sqrt{\\frac{s_{tg}}{n_{tg}}+\\frac{s_{cg}}{n_{cg}}}}\n",
    "\\end{equation*}"
   ]
  },
  {
   "cell_type": "code",
   "execution_count": 212,
   "metadata": {},
   "outputs": [
    {
     "data": {
      "text/plain": [
       "(1.3348476249438297, 0.1819262225944932)"
      ]
     },
     "execution_count": 212,
     "metadata": {},
     "output_type": "execute_result"
    }
   ],
   "source": [
    "\n",
    "ztest(tg, cg)"
   ]
  },
  {
   "cell_type": "code",
   "execution_count": null,
   "metadata": {},
   "outputs": [],
   "source": []
  },
  {
   "cell_type": "markdown",
   "metadata": {},
   "source": [
    "#### Chi-squared test"
   ]
  },
  {
   "cell_type": "code",
   "execution_count": 213,
   "metadata": {},
   "outputs": [
    {
     "data": {
      "text/plain": [
       "(33, 17)"
      ]
     },
     "execution_count": 213,
     "metadata": {},
     "output_type": "execute_result"
    }
   ],
   "source": [
    "len(tg)-np.sum(tg), np.sum(tg)"
   ]
  },
  {
   "cell_type": "code",
   "execution_count": 214,
   "metadata": {},
   "outputs": [
    {
     "data": {
      "text/plain": [
       "(39, 11)"
      ]
     },
     "execution_count": 214,
     "metadata": {},
     "output_type": "execute_result"
    }
   ],
   "source": [
    "len(cg)-np.sum(cg), np.sum(cg)"
   ]
  },
  {
   "cell_type": "code",
   "execution_count": 16,
   "metadata": {},
   "outputs": [
    {
     "data": {
      "text/plain": [
       "0.28"
      ]
     },
     "execution_count": 16,
     "metadata": {},
     "output_type": "execute_result"
    }
   ],
   "source": [
    "(17+11)/100"
   ]
  },
  {
   "cell_type": "code",
   "execution_count": 17,
   "metadata": {},
   "outputs": [
    {
     "data": {
      "text/plain": [
       "14.000000000000002"
      ]
     },
     "execution_count": 17,
     "metadata": {},
     "output_type": "execute_result"
    }
   ],
   "source": [
    "0.28*50"
   ]
  },
  {
   "cell_type": "code",
   "execution_count": 215,
   "metadata": {},
   "outputs": [],
   "source": [
    "g, p, dof, expctd = stats.chi2_contingency([[33, 17], [39, 11]], correction=False)"
   ]
  },
  {
   "cell_type": "code",
   "execution_count": 216,
   "metadata": {},
   "outputs": [
    {
     "data": {
      "text/plain": [
       "0.18144920772141646"
      ]
     },
     "execution_count": 216,
     "metadata": {},
     "output_type": "execute_result"
    }
   ],
   "source": [
    "p"
   ]
  },
  {
   "cell_type": "markdown",
   "metadata": {},
   "source": [
    "\\begin{equation*}\n",
    "\\chi^2 = \\sum{\\frac{(O-E)^2}{E}} \n",
    "\\end{equation*}"
   ]
  },
  {
   "cell_type": "markdown",
   "metadata": {},
   "source": [
    "\\begin{equation*}\n",
    "\\chi^2 = \\frac{(33-36)^2}{36}+\\frac{(39-36)^2}{36}+\\frac{(17-14)^2}{14}+\\frac{(11-14)^2}{14} \\approx 1.8\n",
    "\\end{equation*}"
   ]
  },
  {
   "cell_type": "code",
   "execution_count": 217,
   "metadata": {},
   "outputs": [
    {
     "data": {
      "text/plain": [
       "1.7857142857142856"
      ]
     },
     "execution_count": 217,
     "metadata": {},
     "output_type": "execute_result"
    }
   ],
   "source": [
    "(33-36)**2/36+(39-36)**2/36+(17-14)**2/14+(11-14)**2/14"
   ]
  },
  {
   "cell_type": "code",
   "execution_count": null,
   "metadata": {},
   "outputs": [],
   "source": []
  },
  {
   "cell_type": "markdown",
   "metadata": {},
   "source": [
    "#### Comparing Z and Chi"
   ]
  },
  {
   "cell_type": "code",
   "execution_count": 218,
   "metadata": {},
   "outputs": [],
   "source": [
    "def get_tests_results(tg, cg):\n",
    "    tg_1, tg_0 = np.sum(tg), len(tg) - np.sum(tg)\n",
    "    cg_1, cg_0 = np.sum(cg), len(tg) - np.sum(cg)\n",
    "    \n",
    "    Z_stat, z_p_value = ztest(tg, cg)\n",
    "    Chi_stat_f, chi_p_value_f, dof_f, expctd_f = stats.chi2_contingency([[tg_0, tg_1], [cg_0, cg_1]], correction=False)\n",
    "    Chi_stat_t, chi_p_value_t, dof_t, expctd_t = stats.chi2_contingency([[tg_0, tg_1], [cg_0, cg_1]], correction=True)\n",
    "    \n",
    "    return z_p_value, chi_p_value_f, chi_p_value_t"
   ]
  },
  {
   "cell_type": "code",
   "execution_count": 57,
   "metadata": {},
   "outputs": [],
   "source": []
  },
  {
   "cell_type": "code",
   "execution_count": 286,
   "metadata": {},
   "outputs": [],
   "source": [
    "def get_tg_cg(size=100):\n",
    "    \n",
    "    tg_size = size\n",
    "    cg_size = size\n",
    "    \n",
    "    p_tg = np.random.normal(loc=50.0, scale=2.0, size=1)[0]\n",
    "    p_cg = np.random.normal(loc=p_tg, scale=10.0, size=1)[0]\n",
    "\n",
    "    tg = np.random.binomial(n=1, p=p_tg/100, size=tg_size)\n",
    "    cg = np.random.binomial(n=1, p=p_cg/100, size=cg_size)\n",
    "    \n",
    "    return tg, cg"
   ]
  },
  {
   "cell_type": "code",
   "execution_count": 168,
   "metadata": {},
   "outputs": [],
   "source": []
  },
  {
   "cell_type": "code",
   "execution_count": 287,
   "metadata": {},
   "outputs": [],
   "source": [
    "res = pd.DataFrame(columns=['rn', 'tg_mean', 'cg_mean', 'z_p_value', 'chi_p_value_f', 'chi_p_value_t'])\n",
    "\n",
    "for i in range(1000):\n",
    "    tg, cg = get_tg_cg(100)\n",
    "    tg_mean, cg_mean = np.mean(tg), np.mean(cg)\n",
    "    z_p_value, chi_p_value_f, chi_p_value_t = get_tests_results(tg, cg)\n",
    "    \n",
    "    res.loc[res.shape[0]] = [i, tg_mean, cg_mean, z_p_value, chi_p_value_f, chi_p_value_t]\n",
    "    "
   ]
  },
  {
   "cell_type": "code",
   "execution_count": 288,
   "metadata": {},
   "outputs": [
    {
     "data": {
      "text/html": [
       "<div>\n",
       "<style scoped>\n",
       "    .dataframe tbody tr th:only-of-type {\n",
       "        vertical-align: middle;\n",
       "    }\n",
       "\n",
       "    .dataframe tbody tr th {\n",
       "        vertical-align: top;\n",
       "    }\n",
       "\n",
       "    .dataframe thead th {\n",
       "        text-align: right;\n",
       "    }\n",
       "</style>\n",
       "<table border=\"1\" class=\"dataframe\">\n",
       "  <thead>\n",
       "    <tr style=\"text-align: right;\">\n",
       "      <th></th>\n",
       "      <th>rn</th>\n",
       "      <th>tg_mean</th>\n",
       "      <th>cg_mean</th>\n",
       "      <th>z_p_value</th>\n",
       "      <th>chi_p_value_f</th>\n",
       "      <th>chi_p_value_t</th>\n",
       "    </tr>\n",
       "  </thead>\n",
       "  <tbody>\n",
       "    <tr>\n",
       "      <th>0</th>\n",
       "      <td>0.0</td>\n",
       "      <td>0.51</td>\n",
       "      <td>0.43</td>\n",
       "      <td>0.257899</td>\n",
       "      <td>0.257041</td>\n",
       "      <td>0.321326</td>\n",
       "    </tr>\n",
       "    <tr>\n",
       "      <th>1</th>\n",
       "      <td>1.0</td>\n",
       "      <td>0.59</td>\n",
       "      <td>0.48</td>\n",
       "      <td>0.118485</td>\n",
       "      <td>0.118887</td>\n",
       "      <td>0.156281</td>\n",
       "    </tr>\n",
       "    <tr>\n",
       "      <th>2</th>\n",
       "      <td>2.0</td>\n",
       "      <td>0.51</td>\n",
       "      <td>0.45</td>\n",
       "      <td>0.397286</td>\n",
       "      <td>0.395766</td>\n",
       "      <td>0.479148</td>\n",
       "    </tr>\n",
       "    <tr>\n",
       "      <th>3</th>\n",
       "      <td>3.0</td>\n",
       "      <td>0.52</td>\n",
       "      <td>0.52</td>\n",
       "      <td>1.000000</td>\n",
       "      <td>1.000000</td>\n",
       "      <td>1.000000</td>\n",
       "    </tr>\n",
       "    <tr>\n",
       "      <th>4</th>\n",
       "      <td>4.0</td>\n",
       "      <td>0.47</td>\n",
       "      <td>0.75</td>\n",
       "      <td>0.000025</td>\n",
       "      <td>0.000049</td>\n",
       "      <td>0.000091</td>\n",
       "    </tr>\n",
       "  </tbody>\n",
       "</table>\n",
       "</div>"
      ],
      "text/plain": [
       "    rn  tg_mean  cg_mean  z_p_value  chi_p_value_f  chi_p_value_t\n",
       "0  0.0     0.51     0.43   0.257899       0.257041       0.321326\n",
       "1  1.0     0.59     0.48   0.118485       0.118887       0.156281\n",
       "2  2.0     0.51     0.45   0.397286       0.395766       0.479148\n",
       "3  3.0     0.52     0.52   1.000000       1.000000       1.000000\n",
       "4  4.0     0.47     0.75   0.000025       0.000049       0.000091"
      ]
     },
     "execution_count": 288,
     "metadata": {},
     "output_type": "execute_result"
    }
   ],
   "source": [
    "res.head()"
   ]
  },
  {
   "cell_type": "code",
   "execution_count": 293,
   "metadata": {},
   "outputs": [],
   "source": [
    "res['z_res'] = np.where(res['z_p_value']<0.05, 'H1', 'H0')\n",
    "res['chi_f_res'] = np.where(res['chi_p_value_f']<0.05, 'H1', 'H0')\n",
    "res['chi_t_res'] = np.where(res['chi_p_value_t']<0.05, 'H1', 'H0')"
   ]
  },
  {
   "cell_type": "code",
   "execution_count": null,
   "metadata": {},
   "outputs": [],
   "source": []
  },
  {
   "cell_type": "markdown",
   "metadata": {},
   "source": [
    "##### with False"
   ]
  },
  {
   "cell_type": "code",
   "execution_count": 294,
   "metadata": {},
   "outputs": [
    {
     "data": {
      "text/html": [
       "<div>\n",
       "<style scoped>\n",
       "    .dataframe tbody tr th:only-of-type {\n",
       "        vertical-align: middle;\n",
       "    }\n",
       "\n",
       "    .dataframe tbody tr th {\n",
       "        vertical-align: top;\n",
       "    }\n",
       "\n",
       "    .dataframe thead th {\n",
       "        text-align: right;\n",
       "    }\n",
       "</style>\n",
       "<table border=\"1\" class=\"dataframe\">\n",
       "  <thead>\n",
       "    <tr style=\"text-align: right;\">\n",
       "      <th></th>\n",
       "      <th>rn</th>\n",
       "      <th>tg_mean</th>\n",
       "      <th>cg_mean</th>\n",
       "      <th>z_p_value</th>\n",
       "      <th>chi_p_value_f</th>\n",
       "      <th>chi_p_value_t</th>\n",
       "      <th>z_res</th>\n",
       "      <th>chi_f_res</th>\n",
       "      <th>chi_t_res</th>\n",
       "    </tr>\n",
       "  </thead>\n",
       "  <tbody>\n",
       "  </tbody>\n",
       "</table>\n",
       "</div>"
      ],
      "text/plain": [
       "Empty DataFrame\n",
       "Columns: [rn, tg_mean, cg_mean, z_p_value, chi_p_value_f, chi_p_value_t, z_res, chi_f_res, chi_t_res]\n",
       "Index: []"
      ]
     },
     "execution_count": 294,
     "metadata": {},
     "output_type": "execute_result"
    }
   ],
   "source": [
    "res[res['z_res']!=res['chi_f_res']]"
   ]
  },
  {
   "cell_type": "markdown",
   "metadata": {},
   "source": [
    "##### with True"
   ]
  },
  {
   "cell_type": "code",
   "execution_count": 295,
   "metadata": {},
   "outputs": [
    {
     "data": {
      "text/plain": [
       "(34, 9)"
      ]
     },
     "execution_count": 295,
     "metadata": {},
     "output_type": "execute_result"
    }
   ],
   "source": [
    "res[res['z_res']!=res['chi_t_res']].shape"
   ]
  },
  {
   "cell_type": "markdown",
   "metadata": {},
   "source": [
    "##### False with True"
   ]
  },
  {
   "cell_type": "code",
   "execution_count": 296,
   "metadata": {},
   "outputs": [
    {
     "data": {
      "text/plain": [
       "(34, 9)"
      ]
     },
     "execution_count": 296,
     "metadata": {},
     "output_type": "execute_result"
    }
   ],
   "source": [
    "res[res['chi_t_res']!=res['chi_f_res']].shape"
   ]
  },
  {
   "cell_type": "code",
   "execution_count": 303,
   "metadata": {},
   "outputs": [
    {
     "data": {
      "text/plain": [
       "(0, 9)"
      ]
     },
     "execution_count": 303,
     "metadata": {},
     "output_type": "execute_result"
    }
   ],
   "source": [
    "res[(res['z_res']=='H0') & (res['chi_t_res']=='H1')].shape"
   ]
  },
  {
   "cell_type": "code",
   "execution_count": 304,
   "metadata": {},
   "outputs": [
    {
     "data": {
      "text/plain": [
       "(34, 9)"
      ]
     },
     "execution_count": 304,
     "metadata": {},
     "output_type": "execute_result"
    }
   ],
   "source": [
    "res[(res['z_res']=='H1') & (res['chi_t_res']=='H0')].shape"
   ]
  },
  {
   "cell_type": "code",
   "execution_count": 305,
   "metadata": {},
   "outputs": [
    {
     "data": {
      "text/plain": [
       "0.13438735177865613"
      ]
     },
     "execution_count": 305,
     "metadata": {},
     "output_type": "execute_result"
    }
   ],
   "source": [
    "34/253"
   ]
  },
  {
   "cell_type": "code",
   "execution_count": null,
   "metadata": {},
   "outputs": [],
   "source": []
  },
  {
   "cell_type": "code",
   "execution_count": null,
   "metadata": {},
   "outputs": [],
   "source": []
  },
  {
   "cell_type": "code",
   "execution_count": 297,
   "metadata": {},
   "outputs": [
    {
     "name": "stderr",
     "output_type": "stream",
     "text": [
      "C:\\Users\\a_abdraimov\\AppData\\Local\\Continuum\\anaconda3\\lib\\site-packages\\matplotlib\\axes\\_axes.py:6521: MatplotlibDeprecationWarning: \n",
      "The 'normed' kwarg was deprecated in Matplotlib 2.1 and will be removed in 3.1. Use 'density' instead.\n",
      "  alternative=\"'density'\", removal=\"3.1\")\n"
     ]
    },
    {
     "data": {
      "text/plain": [
       "<matplotlib.axes._subplots.AxesSubplot at 0x2747f1ae2e8>"
      ]
     },
     "execution_count": 297,
     "metadata": {},
     "output_type": "execute_result"
    },
    {
     "data": {
      "image/png": "[encoded data removed]",
      "text/plain": [
       "<Figure size 432x288 with 1 Axes>"
      ]
     },
     "metadata": {},
     "output_type": "display_data"
    }
   ],
   "source": [
    "sns.distplot(np.abs(res['z_p_value'] - res['chi_p_value_f']))"
   ]
  },
  {
   "cell_type": "code",
   "execution_count": 298,
   "metadata": {},
   "outputs": [
    {
     "name": "stderr",
     "output_type": "stream",
     "text": [
      "C:\\Users\\a_abdraimov\\AppData\\Local\\Continuum\\anaconda3\\lib\\site-packages\\matplotlib\\axes\\_axes.py:6521: MatplotlibDeprecationWarning: \n",
      "The 'normed' kwarg was deprecated in Matplotlib 2.1 and will be removed in 3.1. Use 'density' instead.\n",
      "  alternative=\"'density'\", removal=\"3.1\")\n"
     ]
    },
    {
     "data": {
      "text/plain": [
       "<matplotlib.axes._subplots.AxesSubplot at 0x2747bbd66d8>"
      ]
     },
     "execution_count": 298,
     "metadata": {},
     "output_type": "execute_result"
    },
    {
     "data": {
      "image/png": "[encoded data removed]",
      "text/plain": [
       "<Figure size 432x288 with 1 Axes>"
      ]
     },
     "metadata": {},
     "output_type": "display_data"
    }
   ],
   "source": [
    "sns.distplot(np.abs(res['z_p_value'] - res['chi_p_value_t']))"
   ]
  },
  {
   "cell_type": "code",
   "execution_count": null,
   "metadata": {},
   "outputs": [],
   "source": []
  },
  {
   "cell_type": "code",
   "execution_count": 300,
   "metadata": {},
   "outputs": [
    {
     "data": {
      "text/plain": [
       "H0    747\n",
       "H1    253\n",
       "Name: z_res, dtype: int64"
      ]
     },
     "execution_count": 300,
     "metadata": {},
     "output_type": "execute_result"
    }
   ],
   "source": [
    "res['z_res'].value_counts()"
   ]
  },
  {
   "cell_type": "code",
   "execution_count": null,
   "metadata": {},
   "outputs": [],
   "source": []
  }
 ],
 "metadata": {
  "kernelspec": {
   "display_name": "Python 3",
   "language": "python",
   "name": "python3"
  },
  "language_info": {
   "codemirror_mode": {
    "name": "ipython",
    "version": 3
   },
   "file_extension": ".py",
   "mimetype": "text/x-python",
   "name": "python",
   "nbconvert_exporter": "python",
   "pygments_lexer": "ipython3",
   "version": "3.6.4"
  }
 },
 "nbformat": 4,
 "nbformat_minor": 2
}
